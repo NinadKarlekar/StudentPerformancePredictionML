{
 "cells": [
  {
   "cell_type": "markdown",
   "id": "90c12329",
   "metadata": {},
   "source": [
    "## INDEX\n",
    "\n",
    "- [ff](#fffff)\n",
    "- [ff](#a)\n"
   ]
  },
  {
   "cell_type": "markdown",
   "id": "f8f0ba16",
   "metadata": {},
   "source": [
    "### fffff"
   ]
  },
  {
   "cell_type": "markdown",
   "id": "bfa5adcb",
   "metadata": {},
   "source": [
    "#### ggg"
   ]
  },
  {
   "cell_type": "code",
   "execution_count": null,
   "id": "34f23666",
   "metadata": {},
   "outputs": [],
   "source": []
  },
  {
   "cell_type": "code",
   "execution_count": null,
   "id": "a6d6ea26",
   "metadata": {},
   "outputs": [],
   "source": []
  },
  {
   "cell_type": "code",
   "execution_count": null,
   "id": "f6790747",
   "metadata": {},
   "outputs": [],
   "source": []
  },
  {
   "cell_type": "code",
   "execution_count": null,
   "id": "27167f59",
   "metadata": {},
   "outputs": [],
   "source": []
  },
  {
   "cell_type": "code",
   "execution_count": null,
   "id": "6dee2819",
   "metadata": {},
   "outputs": [],
   "source": []
  },
  {
   "cell_type": "code",
   "execution_count": null,
   "id": "a3b53a33",
   "metadata": {},
   "outputs": [],
   "source": []
  },
  {
   "cell_type": "code",
   "execution_count": null,
   "id": "65fa1a31",
   "metadata": {},
   "outputs": [],
   "source": []
  },
  {
   "cell_type": "markdown",
   "id": "f33dcaf1",
   "metadata": {},
   "source": [
    "#### a"
   ]
  }
 ],
 "metadata": {
  "kernelspec": {
   "display_name": "Python 3 (ipykernel)",
   "language": "python",
   "name": "python3"
  },
  "language_info": {
   "codemirror_mode": {
    "name": "ipython",
    "version": 3
   },
   "file_extension": ".py",
   "mimetype": "text/x-python",
   "name": "python",
   "nbconvert_exporter": "python",
   "pygments_lexer": "ipython3",
   "version": "3.9.7"
  }
 },
 "nbformat": 4,
 "nbformat_minor": 5
}
