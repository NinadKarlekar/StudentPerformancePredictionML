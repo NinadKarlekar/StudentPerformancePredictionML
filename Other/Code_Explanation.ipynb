{
 "cells": [
  {
   "cell_type": "markdown",
   "id": "c48da91a",
   "metadata": {},
   "source": [
    "# StudentPerformancePredictionML\n",
    "### This project understands how the student's performance (test scores) is affected by other variables such as Gender, Ethnicity, Parental level of education, Lunch and Test preparation course."
   ]
  },
  {
   "cell_type": "markdown",
   "id": "f01129fb",
   "metadata": {},
   "source": [
    "*******************************\n",
    "*******************************\n",
    "<br>\n",
    "\n",
    "## Main Folder 👇"
   ]
  },
  {
   "cell_type": "markdown",
   "id": "752ae14f",
   "metadata": {},
   "source": [
    "-----------------------\n",
    "<br>\n",
    "\n",
    "### setup.py 👇\n",
    "<i><b>(/StudentPerformancePredictionML/setup.py)</b></i>"
   ]
  },
  {
   "cell_type": "markdown",
   "id": "9aeb1dce",
   "metadata": {},
   "source": [
    "The `setup.py` is responsible for creating my machine learning project as a package"
   ]
  },
  {
   "cell_type": "markdown",
   "id": "7b8cc3a3",
   "metadata": {},
   "source": [
    "\n",
    "```python\n",
    "# Import Libraries\n",
    "from setuptools import find_packages,setup\n",
    "from typing import List\n",
    "```"
   ]
  },
  {
   "cell_type": "markdown",
   "id": "289a1ad8",
   "metadata": {},
   "source": [
    "```python\n",
    "setup(\n",
    "name='StudentPerformancePredictionML',   # Name of project\n",
    "version='0.0.1',   # Version \n",
    "author='Ninad',    # Author name\n",
    "author_email='ninad.karlekar@vsit.edu.in',  # Author email-id\n",
    "packages=find_packages(),\n",
    "install_requires=get_requirements('requirements.txt') # Install all packages in file\n",
    ")\n",
    "# When you use `find_packages()` in your setup.py file, it will search the current directory and its subdirectories for any packages that contain an __init__.py file,\n",
    "```"
   ]
  },
  {
   "cell_type": "markdown",
   "id": "29aa03fd",
   "metadata": {},
   "source": [
    "```python\n",
    "HYPEN_E_DOT='-e .'\n",
    "def get_requirements(file_path:str)->List[str]:\n",
    "    '''\n",
    "    this function will return the list of requirements\n",
    "    '''\n",
    "    requirements=[]\n",
    "    with open(file_path) as file_obj:\n",
    "        # Read all packages written in requirements.txt\n",
    "        requirements=file_obj.readlines()\n",
    "        # replace /n with blank\n",
    "        requirements=[req.replace(\"\\n\",\"\") for req in requirements] \n",
    "\n",
    "        # Remove -e . from requirements.txt while reading\n",
    "        if HYPEN_E_DOT in requirements:\n",
    "            requirements.remove(HYPEN_E_DOT)   \n",
    "    \n",
    "    return requirements\n",
    "```"
   ]
  },
  {
   "cell_type": "markdown",
   "id": "12cffb87",
   "metadata": {},
   "source": [
    "-----------------------\n",
    "<br>\n",
    "\n",
    "### requirements.txt 👇\n",
    "<i><b>(/StudentPerformancePredictionML/requirements.txt)</b></i>"
   ]
  },
  {
   "cell_type": "markdown",
   "id": "7912ec9f",
   "metadata": {},
   "source": [
    "`requirements.txt` file will have all packages that we will use while implimenting project"
   ]
  },
  {
   "cell_type": "markdown",
   "id": "101468a2",
   "metadata": {},
   "source": [
    "```python\n",
    "pandas\n",
    "numpy\n",
    "seaborn\n",
    "-e .                            # -e . will automatically trigger setup.py\n",
    "```"
   ]
  },
  {
   "cell_type": "markdown",
   "id": "a7ae629d",
   "metadata": {},
   "source": [
    "*******************************\n",
    "*******************************\n",
    "<br>\n",
    "\n",
    "## src Folder 👇\n",
    "<i><b>(/StudentPerformancePredictionML/src)</b></i>"
   ]
  },
  {
   "cell_type": "markdown",
   "id": "4e022b4e",
   "metadata": {},
   "source": [
    "This folder will contain all the code"
   ]
  },
  {
   "cell_type": "markdown",
   "id": "b6cc73a3",
   "metadata": {},
   "source": [
    "---------------------------\n",
    "\n",
    "<br>\n",
    "\n",
    "#### exception.py 👇\n",
    "<i><b>(/StudentPerformancePredictionML/src/exception.py)</b></i> <br><br>\n",
    "\n",
    "- We will write own **custom exception** here\n",
    "\n"
   ]
  },
  {
   "cell_type": "markdown",
   "id": "a40d1b1b",
   "metadata": {},
   "source": [
    "```python\n",
    "import sys\n",
    "from src.logger import logging\n",
    "\n",
    "# When a exception is raised we will push our own custon exception\n",
    "def error_message_detail(error,error_detail:sys):\n",
    "    _,_,exc_tb=error_detail.exc_info()\n",
    "    file_name=exc_tb.tb_frame.f_code.co_filename\n",
    "    error_message=\"Error occured in python script name [{0}] line number [{1}] error message[{2}]\".format(file_name,exc_tb.tb_lineno,str(error))\n",
    "\n",
    "    return error_message\n",
    "\n",
    "class CustomException(Exception):\n",
    "    def __init__(self,error_message,error_detail:sys):\n",
    "        super().__init__(error_message)\n",
    "        self.error_message=error_message_detail(error_message,error_detail=error_detail)\n",
    "    \n",
    "    def __str__(self):\n",
    "        return self.error_message\n",
    "    \n",
    "```"
   ]
  },
  {
   "cell_type": "markdown",
   "id": "66ab20f8",
   "metadata": {},
   "source": [
    "---------------------------\n",
    "\n",
    "<br>\n",
    "\n",
    "#### logger.py 👇\n",
    "<i><b>(/StudentPerformancePredictionML/src/logger.py)</b></i> <br><br>\n",
    "\n",
    "- Any execution that is happning we should be able to **log** all information\n"
   ]
  },
  {
   "cell_type": "markdown",
   "id": "aaa535c0",
   "metadata": {},
   "source": [
    "```python\n",
    "\n",
    "import logging\n",
    "import os\n",
    "from datetime import datetime\n",
    "\n",
    "LOG_FILE=f\"{datetime.now().strftime('%m_%d_%Y_%H_%M_%S')}.log\"\n",
    "logs_path=os.path.join(os.getcwd(),\"logs\",LOG_FILE)\n",
    "os.makedirs(logs_path,exist_ok=True)\n",
    "\n",
    "LOG_FILE_PATH=os.path.join(logs_path,LOG_FILE)\n",
    "\n",
    "logging.basicConfig(\n",
    "    filename=LOG_FILE_PATH,\n",
    "    format=\"[ %(asctime)s ] %(lineno)d %(name)s - %(levelname)s - %(message)s\",\n",
    "    level=logging.INFO,\n",
    ")\n",
    "\n",
    "```"
   ]
  },
  {
   "attachments": {},
   "cell_type": "markdown",
   "id": "1d05e5d5",
   "metadata": {},
   "source": [
    "**To Test logger.py,**\n",
    "- Write following code at end of `logger.py`\n",
    "    ```python\n",
    "        if __name__ == \"__main__\":\n",
    "        logging.info(\"Logging started TEST LOGGING\")\n",
    "    ```\n",
    "    \n",
    "- Write following command in `terminal`\n",
    "    ```bash\n",
    "        python src/logger.py\n",
    "    ```\n",
    "    \n",
    "- You can see logs in `logs folder`"
   ]
  },
  {
   "cell_type": "markdown",
   "id": "56fc4e68",
   "metadata": {},
   "source": [
    "---------------------------\n",
    "\n",
    "<br>\n",
    "\n",
    "#### utils.py 👇\n",
    "<i><b>(/StudentPerformancePredictionML/src/utils.py)</b></i> <br><br>\n",
    "\n",
    "\n"
   ]
  },
  {
   "cell_type": "markdown",
   "id": "1ba988b1",
   "metadata": {},
   "source": [
    "<br>\n",
    "\n",
    "---------------------------\n",
    "\n",
    "### components Folder 👇\n",
    "<i><b>(/StudentPerformancePredictionML/src/components)</b></i>"
   ]
  },
  {
   "cell_type": "markdown",
   "id": "b1bd21fd",
   "metadata": {},
   "source": [
    "<br>\n",
    "\n",
    "---------------------------\n",
    "\n",
    "#### data_ingestion.py 👇\n",
    "<i><b>(/StudentPerformancePredictionML/src/components/data_ingestion.py)</b></i> <br><br>\n",
    "This will have all code related to reading data"
   ]
  },
  {
   "cell_type": "markdown",
   "id": "d5e533c0",
   "metadata": {},
   "source": [
    "<br>\n",
    "\n",
    "---------------------------\n",
    "\n",
    "#### data_transformation.py 👇\n",
    "<i><b>(/StudentPerformancePredictionML/src/components/data_transformation.py)</b></i> <br><br>\n",
    "\n",
    "- This will have all code related to transforming data\n",
    "- Here we will write code such as:- how to change categorical feature into numerical feature ,How to handle lable encoding"
   ]
  },
  {
   "cell_type": "markdown",
   "id": "87acbee1",
   "metadata": {},
   "source": [
    "<br>\n",
    "\n",
    "---------------------------\n",
    "\n",
    "#### model_trainer.py 👇\n",
    "<i><b>(/StudentPerformancePredictionML/src/components/model_trainer.py)</b></i> <br><br>\n",
    "\n",
    "- This will have all code related to training data"
   ]
  },
  {
   "cell_type": "markdown",
   "id": "6511b36a",
   "metadata": {},
   "source": [
    "*******************************\n",
    "*******************************\n",
    "<br>\n",
    "\n",
    "## pipeline Folder 👇\n",
    "<i><b>(/StudentPerformancePredictionML/pipeline)</b></i>"
   ]
  },
  {
   "cell_type": "markdown",
   "id": "b8e7b507",
   "metadata": {},
   "source": [
    "---------------------------\n",
    "\n",
    "<br>\n",
    "\n",
    "#### train_pipeline.py 👇\n",
    "<i><b>(/StudentPerformancePredictionML/src/pipeline/train_pipeline.py)</b></i> <br><br>\n",
    "\n",
    "- This will have all code related to training pipeline\n",
    "- From this training pipeline we will call all components files\n"
   ]
  },
  {
   "cell_type": "markdown",
   "id": "1e66ae90",
   "metadata": {},
   "source": [
    "---------------------------\n",
    "\n",
    "<br>\n",
    "\n",
    "#### predict_pipeline.py 👇\n",
    "<i><b>(/StudentPerformancePredictionML/src/pipeline/predict_pipeline.py)</b></i> <br><br>\n",
    "\n",
    "- This will have all code related to prediction of new data\n"
   ]
  },
  {
   "cell_type": "markdown",
   "id": "9ab47f4e",
   "metadata": {},
   "source": [
    "--------------------------\n",
    "**END**\n",
    "2-15.40"
   ]
  }
 ],
 "metadata": {
  "kernelspec": {
   "display_name": "Python 3 (ipykernel)",
   "language": "python",
   "name": "python3"
  },
  "language_info": {
   "codemirror_mode": {
    "name": "ipython",
    "version": 3
   },
   "file_extension": ".py",
   "mimetype": "text/x-python",
   "name": "python",
   "nbconvert_exporter": "python",
   "pygments_lexer": "ipython3",
   "version": "3.9.7"
  },
  "toc": {
   "base_numbering": 1,
   "nav_menu": {},
   "number_sections": true,
   "sideBar": true,
   "skip_h1_title": false,
   "title_cell": "Table of Contents",
   "title_sidebar": "Contents",
   "toc_cell": false,
   "toc_position": {},
   "toc_section_display": true,
   "toc_window_display": false
  }
 },
 "nbformat": 4,
 "nbformat_minor": 5
}
