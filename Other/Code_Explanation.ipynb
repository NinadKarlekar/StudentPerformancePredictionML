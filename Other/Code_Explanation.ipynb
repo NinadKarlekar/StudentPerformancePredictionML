{
 "cells": [
  {
   "cell_type": "markdown",
   "id": "c48da91a",
   "metadata": {},
   "source": [
    "# StudentPerformancePredictionML\n",
    "### This project understands how the student's performance (test scores) is affected by other variables such as Gender, Ethnicity, Parental level of education, Lunch and Test preparation course."
   ]
  },
  {
   "cell_type": "markdown",
   "id": "f01129fb",
   "metadata": {},
   "source": [
    "*******************************\n",
    "*******************************\n",
    "<br>\n",
    "\n",
    "## Main Folder 👇"
   ]
  },
  {
   "cell_type": "markdown",
   "id": "752ae14f",
   "metadata": {},
   "source": [
    "-----------------------\n",
    "<br>\n",
    "\n",
    "### setup.py 👇\n",
    "<i><b>(/StudentPerformancePredictionML/setup.py)</b></i>"
   ]
  },
  {
   "cell_type": "markdown",
   "id": "9aeb1dce",
   "metadata": {},
   "source": [
    "The `setup.py` is responsible for creating my machine learning project as a package"
   ]
  },
  {
   "cell_type": "markdown",
   "id": "7b8cc3a3",
   "metadata": {},
   "source": [
    "\n",
    "```python\n",
    "# Import Libraries\n",
    "from setuptools import find_packages,setup\n",
    "from typing import List\n",
    "```"
   ]
  },
  {
   "cell_type": "markdown",
   "id": "289a1ad8",
   "metadata": {},
   "source": [
    "```python\n",
    "setup(\n",
    "name='StudentPerformancePredictionML',   # Name of project\n",
    "version='0.0.1',   # Version \n",
    "author='Ninad',    # Author name\n",
    "author_email='ninad.karlekar@vsit.edu.in',  # Author email-id\n",
    "packages=find_packages(),\n",
    "install_requires=get_requirements('requirements.txt') # Install all packages in file\n",
    ")\n",
    "# When you use `find_packages()` in your setup.py file, it will search the current directory and its subdirectories for any packages that contain an __init__.py file,\n",
    "```"
   ]
  },
  {
   "cell_type": "markdown",
   "id": "29aa03fd",
   "metadata": {},
   "source": [
    "```python\n",
    "HYPEN_E_DOT='-e .'\n",
    "def get_requirements(file_path:str)->List[str]:\n",
    "    '''\n",
    "    this function will return the list of requirements\n",
    "    '''\n",
    "    requirements=[]\n",
    "    with open(file_path) as file_obj:\n",
    "        # Read all packages written in requirements.txt\n",
    "        requirements=file_obj.readlines()\n",
    "        # replace /n with blank\n",
    "        requirements=[req.replace(\"\\n\",\"\") for req in requirements] \n",
    "\n",
    "        # Remove -e . from requirements.txt while reading\n",
    "        if HYPEN_E_DOT in requirements:\n",
    "            requirements.remove(HYPEN_E_DOT)   \n",
    "    \n",
    "    return requirements\n",
    "```"
   ]
  },
  {
   "cell_type": "markdown",
   "id": "12cffb87",
   "metadata": {},
   "source": [
    "-----------------------\n",
    "<br>\n",
    "\n",
    "### requirements.txt 👇\n",
    "<i><b>(/StudentPerformancePredictionML/requirements.txt)</b></i>"
   ]
  },
  {
   "cell_type": "markdown",
   "id": "7912ec9f",
   "metadata": {},
   "source": [
    "`requirements.txt` file will have all packages that we will use while implimenting project"
   ]
  },
  {
   "cell_type": "markdown",
   "id": "101468a2",
   "metadata": {},
   "source": [
    "```python\n",
    "pandas\n",
    "numpy\n",
    "seaborn\n",
    "-e .                            # -e . will automatically trigger setup.py\n",
    "```"
   ]
  },
  {
   "cell_type": "markdown",
   "id": "a7ae629d",
   "metadata": {},
   "source": [
    "*******************************\n",
    "*******************************\n",
    "<br>\n",
    "\n",
    "## src Folder 👇\n",
    "<i><b>(/StudentPerformancePredictionML/src)</b></i>"
   ]
  },
  {
   "cell_type": "markdown",
   "id": "4e022b4e",
   "metadata": {},
   "source": [
    "This folder will contain all the code"
   ]
  },
  {
   "cell_type": "markdown",
   "id": "b6cc73a3",
   "metadata": {},
   "source": [
    "---------------------------\n",
    "\n",
    "<br>\n",
    "\n",
    "#### exception.py 👇\n",
    "<i><b>(/StudentPerformancePredictionML/src/exception.py)</b></i> <br><br>\n",
    "\n",
    "- We will write own **custom exception** here\n",
    "\n"
   ]
  },
  {
   "cell_type": "markdown",
   "id": "a40d1b1b",
   "metadata": {},
   "source": [
    "```python\n",
    "import sys\n",
    "from src.logger import logging\n",
    "\n",
    "# When a exception is raised we will push our own custon exception\n",
    "def error_message_detail(error,error_detail:sys):\n",
    "    _,_,exc_tb=error_detail.exc_info()\n",
    "    file_name=exc_tb.tb_frame.f_code.co_filename\n",
    "    error_message=\"Error occured in python script name [{0}] line number [{1}] error message[{2}]\".format(file_name,exc_tb.tb_lineno,str(error))\n",
    "\n",
    "    return error_message\n",
    "\n",
    "class CustomException(Exception):\n",
    "    def __init__(self,error_message,error_detail:sys):\n",
    "        super().__init__(error_message)\n",
    "        self.error_message=error_message_detail(error_message,error_detail=error_detail)\n",
    "    \n",
    "    def __str__(self):\n",
    "        return self.error_message\n",
    "    \n",
    "```"
   ]
  },
  {
   "cell_type": "markdown",
   "id": "66ab20f8",
   "metadata": {},
   "source": [
    "---------------------------\n",
    "\n",
    "<br>\n",
    "\n",
    "#### logger.py 👇\n",
    "<i><b>(/StudentPerformancePredictionML/src/logger.py)</b></i> <br><br>\n",
    "\n",
    "- Any execution that is happning we should be able to **log** all information\n"
   ]
  },
  {
   "cell_type": "markdown",
   "id": "0ce3d330",
   "metadata": {},
   "source": [
    "```python\n",
    "\n",
    "import logging\n",
    "import os\n",
    "from datetime import datetime\n",
    "\n",
    "LOG_FILE=f\"{datetime.now().strftime('%m_%d_%Y_%H_%M_%S')}.log\"\n",
    "logs_path=os.path.join(os.getcwd(),\"logs\",LOG_FILE)\n",
    "os.makedirs(logs_path,exist_ok=True)\n",
    "\n",
    "LOG_FILE_PATH=os.path.join(logs_path,LOG_FILE)\n",
    "\n",
    "logging.basicConfig(\n",
    "    filename=LOG_FILE_PATH,\n",
    "    format=\"[ %(asctime)s ] %(lineno)d %(name)s - %(levelname)s - %(message)s\",\n",
    "    level=logging.INFO,\n",
    ")\n",
    "\n",
    "```"
   ]
  },
  {
   "attachments": {},
   "cell_type": "markdown",
   "id": "f4c5d6a7",
   "metadata": {},
   "source": [
    "**To Test logger.py,**\n",
    "- Write following code at end of `logger.py`\n",
    "    ```python\n",
    "        if __name__ == \"__main__\":\n",
    "        logging.info(\"Logging started TEST LOGGING\")\n",
    "    ```\n",
    "    \n",
    "- Write following command in `terminal`\n",
    "    ```bash\n",
    "        python src/logger.py\n",
    "    ```\n",
    "    \n",
    "- You can see logs in `logs folder`"
   ]
  },
  {
   "cell_type": "markdown",
   "id": "56fc4e68",
   "metadata": {},
   "source": [
    "---------------------------\n",
    "\n",
    "<br>\n",
    "\n",
    "#### utils.py 👇\n",
    "<i><b>(/StudentPerformancePredictionML/src/utils.py)</b></i> <br><br>\n",
    "\n",
    "\n"
   ]
  },
  {
   "cell_type": "markdown",
   "id": "1ba988b1",
   "metadata": {},
   "source": [
    "<br>\n",
    "\n",
    "---------------------------\n",
    "\n",
    "### components Folder 👇\n",
    "<i><b>(/StudentPerformancePredictionML/src/components)</b></i>"
   ]
  },
  {
   "cell_type": "markdown",
   "id": "b1bd21fd",
   "metadata": {},
   "source": [
    "<br>\n",
    "\n",
    "---------------------------\n",
    "\n",
    "#### data_ingestion.py 👇\n",
    "<i><b>(/StudentPerformancePredictionML/src/components/data_ingestion.py)</b></i> <br><br>\n",
    "This will have all code related to reading data"
   ]
  },
  {
   "attachments": {},
   "cell_type": "markdown",
   "id": "1b0b9ae6",
   "metadata": {},
   "source": [
    "```python\n",
    "import os\n",
    "import sys\n",
    "from src.exception import CustomException # Import exception form src->exception\n",
    "from src.logger import logging # Import logging form src->logger\n",
    "import pandas as pd\n",
    "\n",
    "from sklearn.model_selection import train_test_split\n",
    "from dataclasses import dataclass # Used to create class variables\n",
    "\n",
    "from src.components.data_transformation import DataTransformation\n",
    "from src.components.data_transformation import DataTransformationConfig\n",
    "\n",
    "from src.components.model_trainer import ModelTrainerConfig\n",
    "from src.components.model_trainer import ModelTrainer\n",
    "@dataclass\n",
    "class DataIngestionConfig:\n",
    "    train_data_path: str=os.path.join('artifacts',\"train.csv\") # All train data will be saved in this path\n",
    "    test_data_path: str=os.path.join('artifacts',\"test.csv\") # All test data will be saved in this path\n",
    "    raw_data_path: str=os.path.join('artifacts',\"data.csv\") # All raw data will be saved in this path\n",
    "\n",
    "class DataIngestion:\n",
    "    def __init__(self):\n",
    "        self.ingestion_config=DataIngestionConfig() # above 3 path will bes stored inside class\n",
    "\n",
    "    def initiate_data_ingestion(self):\n",
    "        logging.info(\"Entered the data ingestion method or component\") \n",
    "        try:\n",
    "            df=pd.read_csv('notebook\\data\\stud.csv') # Read from csv\n",
    "            logging.info('Read the dataset as dataframe')\n",
    "\n",
    "            os.makedirs(os.path.dirname(self.ingestion_config.train_data_path),exist_ok=True) \n",
    "\n",
    "            df.to_csv(self.ingestion_config.raw_data_path,index=False,header=True)\n",
    "\n",
    "            logging.info(\"Train test split initiated\")\n",
    "            train_set,test_set=train_test_split(df,test_size=0.2,random_state=42)\n",
    "\n",
    "            # After split save train data to train_data_path\n",
    "            train_set.to_csv(self.ingestion_config.train_data_path,index=False,header=True) \n",
    "\n",
    "            # After split save test data to test_data_path\n",
    "            test_set.to_csv(self.ingestion_config.test_data_path,index=False,header=True)\n",
    "\n",
    "            logging.info(\"Inmgestion of the data iss completed\")\n",
    "\n",
    "            return(\n",
    "                # passing train_data_path & test_data_path to next step(Data transformation)\n",
    "                self.ingestion_config.train_data_path,\n",
    "                self.ingestion_config.test_data_path\n",
    "\n",
    "            )\n",
    "        except Exception as e:\n",
    "            raise CustomException(e,sys)\n",
    "        \n",
    "if __name__==\"__main__\":\n",
    "    obj=DataIngestion()\n",
    "    train_data,test_data=obj.initiate_data_ingestion()\n",
    "\n",
    "    data_transformation=DataTransformation()\n",
    "    train_arr,test_arr,_=data_transformation.initiate_data_transformation(train_data,test_data)\n",
    "\n",
    "    modeltrainer=ModelTrainer()\n",
    "    print(modeltrainer.initiate_model_trainer(train_arr,test_arr))\n",
    "```"
   ]
  },
  {
   "cell_type": "markdown",
   "id": "d5e533c0",
   "metadata": {},
   "source": [
    "<br>\n",
    "\n",
    "---------------------------\n",
    "\n",
    "#### data_transformation.py 👇\n",
    "<i><b>(/StudentPerformancePredictionML/src/components/data_transformation.py)</b></i> <br><br>\n",
    "\n",
    "- This will have all code related to transforming data\n",
    "- Here we will write code such as:- how to change categorical feature into numerical feature ,How to handle lable encoding"
   ]
  },
  {
   "cell_type": "markdown",
   "id": "87acbee1",
   "metadata": {},
   "source": [
    "<br>\n",
    "\n",
    "---------------------------\n",
    "\n",
    "#### model_trainer.py 👇\n",
    "<i><b>(/StudentPerformancePredictionML/src/components/model_trainer.py)</b></i> <br><br>\n",
    "\n",
    "- This will have all code related to training data"
   ]
  },
  {
   "cell_type": "markdown",
   "id": "6511b36a",
   "metadata": {},
   "source": [
    "*******************************\n",
    "*******************************\n",
    "<br>\n",
    "\n",
    "## pipeline Folder 👇\n",
    "<i><b>(/StudentPerformancePredictionML/pipeline)</b></i>"
   ]
  },
  {
   "cell_type": "markdown",
   "id": "b8e7b507",
   "metadata": {},
   "source": [
    "---------------------------\n",
    "\n",
    "<br>\n",
    "\n",
    "#### train_pipeline.py 👇\n",
    "<i><b>(/StudentPerformancePredictionML/src/pipeline/train_pipeline.py)</b></i> <br><br>\n",
    "\n",
    "- This will have all code related to training pipeline\n",
    "- From this training pipeline we will call all components files\n"
   ]
  },
  {
   "cell_type": "markdown",
   "id": "1e66ae90",
   "metadata": {},
   "source": [
    "---------------------------\n",
    "\n",
    "<br>\n",
    "\n",
    "#### predict_pipeline.py 👇\n",
    "<i><b>(/StudentPerformancePredictionML/src/pipeline/predict_pipeline.py)</b></i> <br><br>\n",
    "\n",
    "- This will have all code related to prediction of new data\n"
   ]
  },
  {
   "attachments": {},
   "cell_type": "markdown",
   "id": "9ab47f4e",
   "metadata": {},
   "source": [
    "--------------------------\n",
    "**END**\n"
   ]
  }
 ],
 "metadata": {
  "kernelspec": {
   "display_name": "Python 3",
   "language": "python",
   "name": "python3"
  },
  "language_info": {
   "codemirror_mode": {
    "name": "ipython",
    "version": 3
   },
   "file_extension": ".py",
   "mimetype": "text/x-python",
   "name": "python",
   "nbconvert_exporter": "python",
   "pygments_lexer": "ipython3",
   "version": "3.8.0"
  },
  "toc": {
   "base_numbering": 1,
   "nav_menu": {},
   "number_sections": true,
   "sideBar": true,
   "skip_h1_title": false,
   "title_cell": "Table of Contents",
   "title_sidebar": "Contents",
   "toc_cell": false,
   "toc_position": {},
   "toc_section_display": true,
   "toc_window_display": false
  }
 },
 "nbformat": 4,
 "nbformat_minor": 5
}
