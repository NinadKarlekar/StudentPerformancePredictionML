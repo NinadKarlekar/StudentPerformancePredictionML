{
 "cells": [
  {
   "cell_type": "markdown",
   "id": "039f4d05",
   "metadata": {},
   "source": [
    "# StudentPerformancePredictionML\n",
    "### This project understands how the student's performance (test scores) is affected by other variables such as Gender, Ethnicity, Parental level of education, Lunch and Test preparation course."
   ]
  },
  {
   "cell_type": "markdown",
   "id": "3933c312",
   "metadata": {},
   "source": [
    "*******************************\n",
    "*******************************\n",
    "<br>\n",
    "\n",
    "## Main Folder 👇"
   ]
  },
  {
   "cell_type": "markdown",
   "id": "9db78c31",
   "metadata": {},
   "source": [
    "-----------------------\n",
    "<br>\n",
    "\n",
    "### setup.py 👇\n",
    "(/StudentPerformancePredictionML/setup.py)"
   ]
  },
  {
   "cell_type": "markdown",
   "id": "094c0d02",
   "metadata": {},
   "source": [
    "The setup.py is responsible for creating my machine learning project as a package"
   ]
  },
  {
   "cell_type": "markdown",
   "id": "6f4aa885",
   "metadata": {},
   "source": [
    "```python\n",
    "setup(\n",
    "name='StudentPerformancePredictionML',   # Name of project\n",
    "version='0.0.1',   # Version \n",
    "author='Ninad',    # Author name\n",
    "author_email='ninad.karlekar@vsit.edu.in',  # Author email-id\n",
    "packages=find_packages(),\n",
    "install_requires=get_requirements('requirements.txt')\n",
    ")\n",
    "# When you use `find_packages()` in your setup.py file, it will search the current directory and its subdirectories for any packages that contain an __init__.py file,\n",
    "```"
   ]
  },
  {
   "cell_type": "code",
   "execution_count": null,
   "id": "818610e3",
   "metadata": {},
   "outputs": [],
   "source": []
  },
  {
   "cell_type": "code",
   "execution_count": null,
   "id": "3b562f95",
   "metadata": {},
   "outputs": [],
   "source": []
  },
  {
   "cell_type": "code",
   "execution_count": null,
   "id": "f6fcfbc4",
   "metadata": {},
   "outputs": [],
   "source": []
  },
  {
   "cell_type": "markdown",
   "id": "d9bffee2",
   "metadata": {},
   "source": [
    "-----------------------\n",
    "<br>\n",
    "\n",
    "### requirements.txt \n",
    "(/StudentPerformancePredictionML/requirements.txt)"
   ]
  },
  {
   "cell_type": "markdown",
   "id": "e32ba946",
   "metadata": {},
   "source": [
    "`requirements.txt` file will have all packages that we will use while implimenting project"
   ]
  },
  {
   "cell_type": "code",
   "execution_count": null,
   "id": "f677d381",
   "metadata": {},
   "outputs": [],
   "source": []
  },
  {
   "cell_type": "code",
   "execution_count": null,
   "id": "6efcc31d",
   "metadata": {},
   "outputs": [],
   "source": []
  },
  {
   "cell_type": "code",
   "execution_count": null,
   "id": "00015f57",
   "metadata": {},
   "outputs": [],
   "source": []
  },
  {
   "cell_type": "code",
   "execution_count": null,
   "id": "6cc4f801",
   "metadata": {},
   "outputs": [],
   "source": []
  },
  {
   "cell_type": "code",
   "execution_count": null,
   "id": "f14473b2",
   "metadata": {},
   "outputs": [],
   "source": []
  }
 ],
 "metadata": {
  "kernelspec": {
   "display_name": "Python 3 (ipykernel)",
   "language": "python",
   "name": "python3"
  },
  "language_info": {
   "codemirror_mode": {
    "name": "ipython",
    "version": 3
   },
   "file_extension": ".py",
   "mimetype": "text/x-python",
   "name": "python",
   "nbconvert_exporter": "python",
   "pygments_lexer": "ipython3",
   "version": "3.9.7"
  }
 },
 "nbformat": 4,
 "nbformat_minor": 5
}
