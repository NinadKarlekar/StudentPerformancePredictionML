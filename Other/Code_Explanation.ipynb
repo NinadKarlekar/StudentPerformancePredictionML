{
 "cells": [
  {
   "cell_type": "markdown",
   "id": "ff6ad51d",
   "metadata": {},
   "source": [
    "# StudentPerformancePredictionML\n",
    "### This project understands how the student's performance (test scores) is affected by other variables such as Gender, Ethnicity, Parental level of education, Lunch and Test preparation course."
   ]
  },
  {
   "cell_type": "markdown",
   "id": "111c45b1",
   "metadata": {},
   "source": [
    "*******************************\n",
    "*******************************\n",
    "<br>\n",
    "\n",
    "## Main Folder 👇"
   ]
  },
  {
   "cell_type": "markdown",
   "id": "67d5e32f",
   "metadata": {},
   "source": [
    "-----------------------\n",
    "<br>\n",
    "\n",
    "### setup.py 👇\n",
    "<i><b>(/StudentPerformancePredictionML/setup.py)</b></i>"
   ]
  },
  {
   "cell_type": "markdown",
   "id": "ec906b01",
   "metadata": {},
   "source": [
    "The `setup.py` is responsible for creating my machine learning project as a package"
   ]
  },
  {
   "cell_type": "markdown",
   "id": "eb24addb",
   "metadata": {},
   "source": [
    "\n",
    "```python\n",
    "# Import Libraries\n",
    "from setuptools import find_packages,setup\n",
    "from typing import List\n",
    "```"
   ]
  },
  {
   "cell_type": "markdown",
   "id": "60c5c7b9",
   "metadata": {},
   "source": [
    "```python\n",
    "setup(\n",
    "name='StudentPerformancePredictionML',   # Name of project\n",
    "version='0.0.1',   # Version \n",
    "author='Ninad',    # Author name\n",
    "author_email='ninad.karlekar@vsit.edu.in',  # Author email-id\n",
    "packages=find_packages(),\n",
    "install_requires=get_requirements('requirements.txt') # Install all packages in file\n",
    ")\n",
    "# When you use `find_packages()` in your setup.py file, it will search the current directory and its subdirectories for any packages that contain an __init__.py file,\n",
    "```"
   ]
  },
  {
   "cell_type": "markdown",
   "id": "1a940952",
   "metadata": {},
   "source": [
    "```python\n",
    "HYPEN_E_DOT='-e .'\n",
    "def get_requirements(file_path:str)->List[str]:\n",
    "    '''\n",
    "    this function will return the list of requirements\n",
    "    '''\n",
    "    requirements=[]\n",
    "    with open(file_path) as file_obj:\n",
    "        # Read all packages written in requirements.txt\n",
    "        requirements=file_obj.readlines()\n",
    "        # replace /n with blank\n",
    "        requirements=[req.replace(\"\\n\",\"\") for req in requirements] \n",
    "\n",
    "        # Remove -e . from requirements.txt while reading\n",
    "        if HYPEN_E_DOT in requirements:\n",
    "            requirements.remove(HYPEN_E_DOT)   \n",
    "    \n",
    "    return requirements\n",
    "```"
   ]
  },
  {
   "cell_type": "markdown",
   "id": "9f7767d4",
   "metadata": {},
   "source": [
    "-----------------------\n",
    "<br>\n",
    "\n",
    "### requirements.txt 👇\n",
    "<i><b>(/StudentPerformancePredictionML/requirements.txt)</b></i>"
   ]
  },
  {
   "cell_type": "markdown",
   "id": "e725c8a1",
   "metadata": {},
   "source": [
    "`requirements.txt` file will have all packages that we will use while implimenting project"
   ]
  },
  {
   "cell_type": "markdown",
   "id": "93815273",
   "metadata": {},
   "source": [
    "```python\n",
    "pandas\n",
    "numpy\n",
    "seaborn\n",
    "-e .                            # -e . will automatically trigger setup.py\n",
    "```"
   ]
  },
  {
   "cell_type": "markdown",
   "id": "d794b9ba",
   "metadata": {},
   "source": [
    "*******************************\n",
    "*******************************\n",
    "<br>\n",
    "\n",
    "## src Folder 👇\n",
    "<i><b>(/StudentPerformancePredictionML/src)</b></i>"
   ]
  },
  {
   "cell_type": "markdown",
   "id": "2294029c",
   "metadata": {},
   "source": [
    "This folder will contain all the code"
   ]
  },
  {
   "cell_type": "markdown",
   "id": "475f23f8",
   "metadata": {},
   "source": [
    "---------------------------\n",
    "\n",
    "<br>\n",
    "\n",
    "#### exception.py 👇\n",
    "<i><b>(/StudentPerformancePredictionML/src/exception.py)</b></i> <br><br>\n",
    "\n",
    "- We will write own custom exception here\n",
    "\n"
   ]
  },
  {
   "cell_type": "markdown",
   "id": "513129d0",
   "metadata": {},
   "source": [
    "---------------------------\n",
    "\n",
    "<br>\n",
    "\n",
    "#### logger.py 👇\n",
    "<i><b>(/StudentPerformancePredictionML/src/logger.py)</b></i> <br><br>\n",
    "\n",
    "\n"
   ]
  },
  {
   "cell_type": "markdown",
   "id": "f71e9722",
   "metadata": {},
   "source": [
    "---------------------------\n",
    "\n",
    "<br>\n",
    "\n",
    "#### utils.py 👇\n",
    "<i><b>(/StudentPerformancePredictionML/src/utils.py)</b></i> <br><br>\n",
    "\n",
    "\n"
   ]
  },
  {
   "cell_type": "markdown",
   "id": "5da8c9af",
   "metadata": {},
   "source": [
    "<br>\n",
    "\n",
    "---------------------------\n",
    "\n",
    "### components Folder 👇\n",
    "<i><b>(/StudentPerformancePredictionML/src/components)</b></i>"
   ]
  },
  {
   "cell_type": "markdown",
   "id": "974feabf",
   "metadata": {},
   "source": [
    "<br>\n",
    "\n",
    "---------------------------\n",
    "\n",
    "#### data_ingestion.py 👇\n",
    "<i><b>(/StudentPerformancePredictionML/src/components/data_ingestion.py)</b></i> <br><br>\n",
    "This will have all code related to reading data"
   ]
  },
  {
   "cell_type": "markdown",
   "id": "a81837b2",
   "metadata": {},
   "source": [
    "<br>\n",
    "\n",
    "---------------------------\n",
    "\n",
    "#### data_transformation.py 👇\n",
    "<i><b>(/StudentPerformancePredictionML/src/components/data_transformation.py)</b></i> <br><br>\n",
    "\n",
    "- This will have all code related to transforming data\n",
    "- Here we will write code such as:- how to change categorical feature into numerical feature ,How to handle lable encoding"
   ]
  },
  {
   "cell_type": "markdown",
   "id": "cbb8a2b2",
   "metadata": {},
   "source": [
    "<br>\n",
    "\n",
    "---------------------------\n",
    "\n",
    "#### model_trainer.py 👇\n",
    "<i><b>(/StudentPerformancePredictionML/src/components/model_trainer.py)</b></i> <br><br>\n",
    "\n",
    "- This will have all code related to training data"
   ]
  },
  {
   "cell_type": "markdown",
   "id": "fd914cc4",
   "metadata": {},
   "source": [
    "*******************************\n",
    "*******************************\n",
    "<br>\n",
    "\n",
    "## pipeline Folder 👇\n",
    "<i><b>(/StudentPerformancePredictionML/pipeline)</b></i>"
   ]
  },
  {
   "cell_type": "markdown",
   "id": "8f783a0c",
   "metadata": {},
   "source": [
    "---------------------------\n",
    "\n",
    "<br>\n",
    "\n",
    "#### train_pipeline.py 👇\n",
    "<i><b>(/StudentPerformancePredictionML/src/pipeline/train_pipeline.py)</b></i> <br><br>\n",
    "\n",
    "- This will have all code related to training pipeline\n",
    "- From this training pipeline we will call all components files\n"
   ]
  },
  {
   "cell_type": "markdown",
   "id": "1a8c5b72",
   "metadata": {},
   "source": [
    "---------------------------\n",
    "\n",
    "<br>\n",
    "\n",
    "#### predict_pipeline.py 👇\n",
    "<i><b>(/StudentPerformancePredictionML/src/pipeline/predict_pipeline.py)</b></i> <br><br>\n",
    "\n",
    "- This will have all code related to prediction of new data\n"
   ]
  }
 ],
 "metadata": {
  "kernelspec": {
   "display_name": "Python 3 (ipykernel)",
   "language": "python",
   "name": "python3"
  },
  "language_info": {
   "codemirror_mode": {
    "name": "ipython",
    "version": 3
   },
   "file_extension": ".py",
   "mimetype": "text/x-python",
   "name": "python",
   "nbconvert_exporter": "python",
   "pygments_lexer": "ipython3",
   "version": "3.9.7"
  }
 },
 "nbformat": 4,
 "nbformat_minor": 5
}
