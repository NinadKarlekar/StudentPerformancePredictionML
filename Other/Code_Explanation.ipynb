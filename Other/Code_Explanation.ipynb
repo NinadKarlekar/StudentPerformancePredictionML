{
 "cells": [
  {
   "cell_type": "markdown",
   "id": "5b24853d",
   "metadata": {},
   "source": [
    "# StudentPerformancePredictionML\n",
    "### This project understands how the student's performance (test scores) is affected by other variables such as Gender, Ethnicity, Parental level of education, Lunch and Test preparation course."
   ]
  },
  {
   "cell_type": "markdown",
   "id": "8ab926fc",
   "metadata": {},
   "source": [
    "*******************************\n",
    "*******************************\n",
    "<br>\n",
    "\n",
    "## Main Folder 👇"
   ]
  },
  {
   "cell_type": "markdown",
   "id": "25aa4fad",
   "metadata": {},
   "source": [
    "-----------------------\n",
    "<br>\n",
    "\n",
    "### setup.py 👇\n",
    "<i><b>(/StudentPerformancePredictionML/setup.py)</b></i>"
   ]
  },
  {
   "cell_type": "markdown",
   "id": "aaaa7063",
   "metadata": {},
   "source": [
    "The `setup.py` is responsible for creating my machine learning project as a package"
   ]
  },
  {
   "cell_type": "markdown",
   "id": "0e202a3c",
   "metadata": {},
   "source": [
    "\n",
    "```python\n",
    "# Import Libraries\n",
    "from setuptools import find_packages,setup\n",
    "from typing import List\n",
    "```"
   ]
  },
  {
   "cell_type": "markdown",
   "id": "40c0180b",
   "metadata": {},
   "source": [
    "```python\n",
    "setup(\n",
    "name='StudentPerformancePredictionML',   # Name of project\n",
    "version='0.0.1',   # Version \n",
    "author='Ninad',    # Author name\n",
    "author_email='ninad.karlekar@vsit.edu.in',  # Author email-id\n",
    "packages=find_packages(),\n",
    "install_requires=get_requirements('requirements.txt') # Install all packages in file\n",
    ")\n",
    "# When you use `find_packages()` in your setup.py file, it will search the current directory and its subdirectories for any packages that contain an __init__.py file,\n",
    "```"
   ]
  },
  {
   "cell_type": "markdown",
   "id": "e0401313",
   "metadata": {},
   "source": [
    "```python\n",
    "HYPEN_E_DOT='-e .'\n",
    "def get_requirements(file_path:str)->List[str]:\n",
    "    '''\n",
    "    this function will return the list of requirements\n",
    "    '''\n",
    "    requirements=[]\n",
    "    with open(file_path) as file_obj:\n",
    "        # Read all packages written in requirements.txt\n",
    "        requirements=file_obj.readlines()\n",
    "        # replace /n with blank\n",
    "        requirements=[req.replace(\"\\n\",\"\") for req in requirements] \n",
    "\n",
    "        # Remove -e . from requirements.txt while reading\n",
    "        if HYPEN_E_DOT in requirements:\n",
    "            requirements.remove(HYPEN_E_DOT)   \n",
    "    \n",
    "    return requirements\n",
    "```"
   ]
  },
  {
   "cell_type": "markdown",
   "id": "1df82ab2",
   "metadata": {},
   "source": [
    "-----------------------\n",
    "<br>\n",
    "\n",
    "### requirements.txt 👇\n",
    "<i><b>(/StudentPerformancePredictionML/requirements.txt)</b></i>"
   ]
  },
  {
   "cell_type": "markdown",
   "id": "45f4e56a",
   "metadata": {},
   "source": [
    "`requirements.txt` file will have all packages that we will use while implimenting project"
   ]
  },
  {
   "cell_type": "markdown",
   "id": "61c9d863",
   "metadata": {},
   "source": [
    "```python\n",
    "pandas\n",
    "numpy\n",
    "seaborn\n",
    "-e .                            # -e . will automatically trigger setup.py\n",
    "```"
   ]
  },
  {
   "cell_type": "code",
   "execution_count": null,
   "id": "3b02ec86",
   "metadata": {},
   "outputs": [],
   "source": []
  },
  {
   "cell_type": "code",
   "execution_count": null,
   "id": "929ffb12",
   "metadata": {},
   "outputs": [],
   "source": []
  },
  {
   "cell_type": "code",
   "execution_count": null,
   "id": "6bd748d1",
   "metadata": {},
   "outputs": [],
   "source": []
  },
  {
   "cell_type": "code",
   "execution_count": null,
   "id": "08be2980",
   "metadata": {},
   "outputs": [],
   "source": []
  }
 ],
 "metadata": {
  "kernelspec": {
   "display_name": "Python 3 (ipykernel)",
   "language": "python",
   "name": "python3"
  },
  "language_info": {
   "codemirror_mode": {
    "name": "ipython",
    "version": 3
   },
   "file_extension": ".py",
   "mimetype": "text/x-python",
   "name": "python",
   "nbconvert_exporter": "python",
   "pygments_lexer": "ipython3",
   "version": "3.9.7"
  }
 },
 "nbformat": 4,
 "nbformat_minor": 5
}
